{
 "cells": [
  {
   "cell_type": "markdown",
   "metadata": {},
   "source": [
    "<h1>INTRODUCCIÓN<h1>\n"
   ]
  },
  {
   "cell_type": "markdown",
   "metadata": {},
   "source": [
    "Esta práctica se basa en el diseño de una red neuronal que distinga entre imágenes de 5 clases de **señales de tráfico** (límite de velocidad, ceda el paso, calzada con prioridad, incorporaciones y stop). Para su entrenamiento hemos descargado de kaggle un data set referido al tema, para posteriormente modificarlo en función de nuestras necesidades (dividirlo en las 5 categorías correspondientes y eliminar las clases no necesarias)."
   ]
  },
  {
   "cell_type": "markdown",
   "metadata": {},
   "source": [
    "<h1>DESARROLLO<h1>"
   ]
  },
  {
   "cell_type": "code",
   "execution_count": 29,
   "metadata": {},
   "outputs": [],
   "source": [
    "import tensorflow\n",
    "from tensorflow.keras.layers import Conv2D, MaxPooling2D, Dropout, Dense, Rescaling, Flatten\n",
    "from keras.callbacks import EarlyStopping\n",
    "from tensorflow.keras.models import Sequential\n",
    "import matplotlib.pyplot as plt\n",
    "import numpy as np\n",
    "from sklearn.metrics import classification_report, confusion_matrix\n",
    "import seaborn as sns"
   ]
  },
  {
   "cell_type": "markdown",
   "metadata": {},
   "source": [
    "\n",
    "\n",
    "Posteriormente, procedimos a desarrollar el conjunto de entrenamiento y el conjunto de validación. Para empezar, escalamos el tamaño de la imagen a 32x32 píxeles, y cogimos el dataset en conjuntos de 32 imágenes. El primer bloque de código (train_ds) se encarga de elaborar el entrenamiento, y el segundo (val_ds) la usamos para la validación. Finalmente almacenamos temporalmente esa información obtenida en un buffer del mismo tamaño que el batch."
   ]
  },
  {
   "cell_type": "code",
   "execution_count": 30,
   "metadata": {},
   "outputs": [
    {
     "name": "stdout",
     "output_type": "stream",
     "text": [
      "Found 26832 files belonging to 5 classes.\n",
      "Using 21466 files for training.\n",
      "Found 26832 files belonging to 5 classes.\n",
      "Using 5366 files for validation.\n"
     ]
    }
   ],
   "source": [
    "image_size = (32, 32)\n",
    "batch_size = 32\n",
    "path = \"/Users/alvarotraviesogarcia/DataSets/Trabajo final FSI\"\n",
    "\n",
    "train_ds = tensorflow.keras.preprocessing.image_dataset_from_directory(\n",
    "    path,\n",
    "    validation_split=0.2,\n",
    "    subset=\"training\",\n",
    "    seed = 3200,\n",
    "    image_size=image_size,\n",
    "    batch_size=batch_size,\n",
    "    label_mode='categorical'\n",
    ")\n",
    "val_ds = tensorflow.keras.preprocessing.image_dataset_from_directory(\n",
    "    path,\n",
    "    validation_split=0.2,\n",
    "    subset=\"validation\",\n",
    "    seed = 3200,\n",
    "    image_size=image_size,\n",
    "    batch_size=batch_size,\n",
    "    label_mode='categorical'\n",
    ")\n",
    "\n",
    "train_ds = train_ds.prefetch(buffer_size=32)\n",
    "val_ds = val_ds.prefetch(buffer_size=32)"
   ]
  },
  {
   "cell_type": "markdown",
   "metadata": {},
   "source": [
    "<h1>Primer modelo"
   ]
  },
  {
   "cell_type": "code",
   "execution_count": 31,
   "metadata": {},
   "outputs": [],
   "source": [
    "model = Sequential()\n",
    "\n",
    "model.add(Rescaling(scale=(1./127.5),\n",
    "                    offset=-1, \n",
    "                    input_shape=(32, 32, 3)))\n",
    "                    \n",
    "model.add(Conv2D(32, kernel_size=(3, 3), activation='relu'))\n",
    "model.add(MaxPooling2D(pool_size=(2, 2)))\n",
    "model.add(Conv2D(64, (3, 3), activation='relu'))\n",
    "model.add(MaxPooling2D(pool_size=(2, 2)))\n",
    "model.add(Dropout(0.25))\n",
    "model.add(Conv2D(128, (3, 3), activation='relu'))\n",
    "model.add(MaxPooling2D(pool_size=(2, 2)))\n",
    "model.add(Dropout(0.25))\n",
    "\n",
    "model.add(Flatten())\n",
    "model.add(Dense(128, activation='relu'))\n",
    "model.add(Dropout(0.5))\n",
    "model.add(Dense(5, activation='softmax'))\n",
    "\n",
    "model.compile(loss=tensorflow.keras.losses.categorical_crossentropy,\n",
    "              optimizer=tensorflow.keras.optimizers.Adam(1e-3),\n",
    "              metrics=['accuracy']) "
   ]
  },
  {
   "cell_type": "code",
   "execution_count": 32,
   "metadata": {},
   "outputs": [
    {
     "name": "stdout",
     "output_type": "stream",
     "text": [
      "Epoch 1/20\n",
      "671/671 [==============================] - 8s 12ms/step - loss: 0.2482 - accuracy: 0.9163 - val_loss: 0.0117 - val_accuracy: 0.9983\n",
      "Epoch 2/20\n",
      "671/671 [==============================] - 7s 11ms/step - loss: 0.0177 - accuracy: 0.9953 - val_loss: 0.0035 - val_accuracy: 0.9991\n",
      "Epoch 3/20\n",
      "671/671 [==============================] - 7s 11ms/step - loss: 0.0240 - accuracy: 0.9942 - val_loss: 0.0088 - val_accuracy: 0.9981\n",
      "Epoch 4/20\n",
      "671/671 [==============================] - 7s 11ms/step - loss: 0.0085 - accuracy: 0.9977 - val_loss: 9.2814e-04 - val_accuracy: 0.9993\n",
      "Epoch 5/20\n",
      "671/671 [==============================] - 7s 11ms/step - loss: 0.0103 - accuracy: 0.9972 - val_loss: 0.0010 - val_accuracy: 0.9998\n",
      "Epoch 6/20\n",
      "671/671 [==============================] - 7s 11ms/step - loss: 0.0132 - accuracy: 0.9963 - val_loss: 0.0022 - val_accuracy: 0.9993\n",
      "Epoch 7/20\n",
      "671/671 [==============================] - 7s 10ms/step - loss: 0.0090 - accuracy: 0.9973 - val_loss: 0.0040 - val_accuracy: 0.9991\n",
      "Epoch 8/20\n",
      "671/671 [==============================] - 7s 11ms/step - loss: 0.0095 - accuracy: 0.9980 - val_loss: 0.0059 - val_accuracy: 0.9993\n",
      "Restoring model weights from the end of the best epoch.\n",
      "Epoch 00008: early stopping\n"
     ]
    }
   ],
   "source": [
    "epochs = 20\n",
    "\n",
    "es = EarlyStopping(monitor='val_accuracy', mode='max', verbose=1, patience=3, restore_best_weights=True)\n",
    "\n",
    "h=model.fit_generator(\n",
    "        train_ds,\n",
    "        epochs=epochs,\n",
    "        validation_data = val_ds,\n",
    "        callbacks = [es]\n",
    ")"
   ]
  },
  {
   "cell_type": "markdown",
   "metadata": {},
   "source": [
    "Posteriormente, mostramos una gráfica representativa con los resultados obtenidos."
   ]
  },
  {
   "cell_type": "code",
   "execution_count": 33,
   "metadata": {},
   "outputs": [
    {
     "data": {
      "image/png": "[encoded data removed]",
      "text/plain": [
       "<Figure size 432x288 with 1 Axes>"
      ]
     },
     "metadata": {
      "needs_background": "light"
     },
     "output_type": "display_data"
    }
   ],
   "source": [
    "plt.plot(h.history['accuracy'])\n",
    "plt.plot(h.history['val_accuracy'])\n",
    "plt.plot(h.history['loss'])\n",
    "plt.title('Model accuracy')\n",
    "plt.ylabel('accuracy')\n",
    "plt.xlabel('epoch')\n",
    "plt.legend(['training', 'validation','loss'], loc='upper right')\n",
    "plt.show()"
   ]
  },
  {
   "cell_type": "markdown",
   "metadata": {},
   "source": [
    "<h1>Segundo modelo"
   ]
  },
  {
   "cell_type": "code",
   "execution_count": 34,
   "metadata": {},
   "outputs": [],
   "source": [
    "model = Sequential()\n",
    "\n",
    "model.add(Rescaling(scale=(1./127.5),\n",
    "                    offset=-1, \n",
    "                    input_shape=(32, 32, 3)))\n",
    "                    \n",
    "model.add(Conv2D(32, kernel_size=(3, 3), activation='relu'))\n",
    "model.add(MaxPooling2D(pool_size=(2, 2)))\n",
    "model.add(Conv2D(64, (3, 3), activation='relu'))\n",
    "model.add(MaxPooling2D(pool_size=(2, 2)))\n",
    "model.add(Dropout(0.25))\n",
    "model.add(Conv2D(128, (3, 3), activation='relu'))\n",
    "model.add(MaxPooling2D(pool_size=(2, 2)))\n",
    "model.add(Dropout(0.25))\n",
    "\n",
    "model.add(Flatten())\n",
    "model.add(Dense(128, activation='relu'))\n",
    "model.add(Dropout(0.5))\n",
    "model.add(Dense(5, activation='softmax'))\n",
    "\n",
    "model.compile(loss=tensorflow.keras.losses.categorical_crossentropy,\n",
    "              optimizer=tensorflow.keras.optimizers.Adam(1e-3),\n",
    "              metrics=['accuracy']) "
   ]
  },
  {
   "cell_type": "markdown",
   "metadata": {},
   "source": [
    "En un principio realizamos 20 épocas con early stopping, pero al presentar el modelo un índice de precisión tan alto desde un principio (superior al 90%) decidimos eliminar el early stopping y reducir el número de épocas a 5."
   ]
  },
  {
   "cell_type": "code",
   "execution_count": 35,
   "metadata": {},
   "outputs": [
    {
     "name": "stdout",
     "output_type": "stream",
     "text": [
      "Epoch 1/5\n",
      "671/671 [==============================] - 8s 11ms/step - loss: 0.2559 - accuracy: 0.9145 - val_loss: 0.0099 - val_accuracy: 0.9980\n",
      "Epoch 2/5\n",
      "671/671 [==============================] - 7s 11ms/step - loss: 0.0203 - accuracy: 0.9944 - val_loss: 0.0034 - val_accuracy: 0.9996\n",
      "Epoch 3/5\n",
      "671/671 [==============================] - 7s 10ms/step - loss: 0.0162 - accuracy: 0.9956 - val_loss: 0.0074 - val_accuracy: 0.9989\n",
      "Epoch 4/5\n",
      "671/671 [==============================] - 7s 11ms/step - loss: 0.0151 - accuracy: 0.9954 - val_loss: 0.0028 - val_accuracy: 0.9989\n",
      "Epoch 5/5\n",
      "671/671 [==============================] - 7s 11ms/step - loss: 0.0094 - accuracy: 0.9980 - val_loss: 0.0083 - val_accuracy: 0.9981\n"
     ]
    }
   ],
   "source": [
    "epochs = 5\n",
    "\n",
    "h = model.fit(\n",
    "        train_ds,\n",
    "        epochs=epochs, \n",
    "        validation_data=val_ds\n",
    ")"
   ]
  },
  {
   "cell_type": "markdown",
   "metadata": {},
   "source": [
    "Volvemos a realizar la gráfica."
   ]
  },
  {
   "cell_type": "code",
   "execution_count": 36,
   "metadata": {},
   "outputs": [
    {
     "data": {
      "image/png": "[encoded data removed]",
      "text/plain": [
       "<Figure size 432x288 with 1 Axes>"
      ]
     },
     "metadata": {
      "needs_background": "light"
     },
     "output_type": "display_data"
    }
   ],
   "source": [
    "plt.plot(h.history['accuracy'])\n",
    "plt.plot(h.history['val_accuracy'])\n",
    "plt.plot(h.history['loss'])\n",
    "plt.title('Model accuracy')\n",
    "plt.ylabel('accuracy')\n",
    "plt.xlabel('epoch')\n",
    "plt.legend(['training', 'validation','loss'], loc='upper right')\n",
    "plt.show()"
   ]
  },
  {
   "cell_type": "markdown",
   "metadata": {},
   "source": [
    "plt.plot(h.history['accuracy'])\n",
    "plt.plot(h.history['val_accuracy'])\n",
    "plt.plot(h.history['loss'])\n",
    "plt.title('Model accuracy')\n",
    "plt.ylabel('accuracy')\n",
    "plt.xlabel('epoch')\n",
    "plt.legend(['training', 'validation','loss'], loc='upper right')\n",
    "plt.show()"
   ]
  },
  {
   "cell_type": "markdown",
   "metadata": {},
   "source": [
    "<h1>Tercer modelo (mejor precisión)"
   ]
  },
  {
   "cell_type": "markdown",
   "metadata": {},
   "source": [
    "Eliminamos tres dropouts, una capa convolucional y un max pooling"
   ]
  },
  {
   "cell_type": "code",
   "execution_count": 37,
   "metadata": {},
   "outputs": [],
   "source": [
    "model = Sequential()\n",
    "\n",
    "model.add(Rescaling(scale=(1./127.5),\n",
    "                    offset=-1, \n",
    "                    input_shape=(32, 32, 3)))\n",
    "                    \n",
    "model.add(Conv2D(32, kernel_size=(3, 3), activation='relu'))\n",
    "model.add(MaxPooling2D(pool_size=(2, 2)))\n",
    "model.add(Conv2D(64, (3, 3), activation='relu'))\n",
    "model.add(MaxPooling2D(pool_size=(2, 2)))\n",
    "\n",
    "model.add(Flatten())\n",
    "model.add(Dense(128, activation='relu'))\n",
    "model.add(Dense(5, activation='softmax'))\n",
    "\n",
    "model.compile(loss=tensorflow.keras.losses.categorical_crossentropy,\n",
    "              optimizer=tensorflow.keras.optimizers.Adam(1e-3),\n",
    "              metrics=['accuracy']) "
   ]
  },
  {
   "cell_type": "code",
   "execution_count": 41,
   "metadata": {},
   "outputs": [
    {
     "name": "stdout",
     "output_type": "stream",
     "text": [
      "Epoch 1/5\n",
      "671/671 [==============================] - 6s 10ms/step - loss: 0.0126 - accuracy: 0.9974 - val_loss: 0.0154 - val_accuracy: 0.9972\n",
      "Epoch 2/5\n",
      "671/671 [==============================] - 6s 10ms/step - loss: 0.0063 - accuracy: 0.9986 - val_loss: 0.0027 - val_accuracy: 0.9991\n",
      "Epoch 3/5\n",
      "671/671 [==============================] - 7s 10ms/step - loss: 2.8727e-04 - accuracy: 1.0000 - val_loss: 0.0021 - val_accuracy: 0.9994\n",
      "Epoch 4/5\n",
      "671/671 [==============================] - 7s 10ms/step - loss: 5.1560e-05 - accuracy: 1.0000 - val_loss: 0.0022 - val_accuracy: 0.9994\n",
      "Epoch 5/5\n",
      "671/671 [==============================] - 6s 9ms/step - loss: 2.6389e-05 - accuracy: 1.0000 - val_loss: 0.0021 - val_accuracy: 0.9994\n"
     ]
    }
   ],
   "source": [
    "epochs = 5\n",
    "\n",
    "h = model.fit(\n",
    "        train_ds,\n",
    "        epochs=epochs, \n",
    "        validation_data=val_ds\n",
    ")"
   ]
  },
  {
   "cell_type": "markdown",
   "metadata": {},
   "source": [
    "Para finalizar, realizamos una gráfica representativa de los resultados obtenidos y una matriz de confusión."
   ]
  },
  {
   "cell_type": "code",
   "execution_count": 39,
   "metadata": {},
   "outputs": [
    {
     "data": {
      "image/png": "[encoded data removed]",
      "text/plain": [
       "<Figure size 432x288 with 1 Axes>"
      ]
     },
     "metadata": {
      "needs_background": "light"
     },
     "output_type": "display_data"
    }
   ],
   "source": [
    "plt.plot(h.history['accuracy'])\n",
    "plt.plot(h.history['val_accuracy'])\n",
    "plt.plot(h.history['loss'])\n",
    "plt.title('Model accuracy')\n",
    "plt.ylabel('accuracy')\n",
    "plt.xlabel('epoch')\n",
    "plt.legend(['training', 'validation','loss'], loc='upper right')\n",
    "plt.show()"
   ]
  },
  {
   "cell_type": "code",
   "execution_count": 40,
   "metadata": {},
   "outputs": [
    {
     "name": "stdout",
     "output_type": "stream",
     "text": [
      "              precision    recall  f1-score   support\n",
      "\n",
      "           0     0.9975    0.9963    0.9969       805\n",
      "           1     0.9976    1.0000    0.9988       825\n",
      "           2     0.9980    0.9980    0.9980       488\n",
      "           3     1.0000    1.0000    1.0000       288\n",
      "           4     0.9993    0.9990    0.9992      2960\n",
      "\n",
      "    accuracy                         0.9987      5366\n",
      "   macro avg     0.9985    0.9986    0.9986      5366\n",
      "weighted avg     0.9987    0.9987    0.9987      5366\n",
      "\n"
     ]
    },
    {
     "data": {
      "image/png": "[encoded data removed]",
      "text/plain": [
       "<Figure size 432x288 with 2 Axes>"
      ]
     },
     "metadata": {
      "needs_background": "light"
     },
     "output_type": "display_data"
    }
   ],
   "source": [
    "results = np.concatenate([(y, model.predict(x=x)) for x, y in val_ds], axis=1)\n",
    "\n",
    "predictions = np.argmax(results[0], axis=1)\n",
    "labels = np.argmax(results[1], axis=1)\n",
    "\n",
    "cf_matrix = confusion_matrix(labels, predictions)\n",
    "\n",
    "sns.heatmap(cf_matrix, annot=True, fmt=\"d\", cmap=\"Blues\")\n",
    "\n",
    "print(classification_report(labels, predictions, digits = 4))"
   ]
  },
  {
   "cell_type": "markdown",
   "metadata": {},
   "source": [
    "<h1> Conclusión"
   ]
  },
  {
   "cell_type": "markdown",
   "metadata": {},
   "source": [
    "Como podemos observar en el último modelo, la precisión es tendente al 100% desde la primera época (0.9974) y llegando a cumplirlo en la última, en cuanto a la pérdida vemos que empieza con apenas un 1.5%, cifra que baja hasta 0.21% en la época final. Con esto podemos concluir que el modelo identifica las distintas señales prácticamente sin ningún error."
   ]
  }
 ],
 "metadata": {
  "interpreter": {
   "hash": "e7cb1b9ae4d417fedf7f40a8eec98f7cfbd359e096bd857395a915f4609834ce"
  },
  "kernelspec": {
   "display_name": "Python 3.8.11 64-bit ('base': conda)",
   "language": "python",
   "name": "python3"
  },
  "language_info": {
   "codemirror_mode": {
    "name": "ipython",
    "version": 3
   },
   "file_extension": ".py",
   "mimetype": "text/x-python",
   "name": "python",
   "nbconvert_exporter": "python",
   "pygments_lexer": "ipython3",
   "version": "3.8.11"
  }
 },
 "nbformat": 4,
 "nbformat_minor": 2
}
